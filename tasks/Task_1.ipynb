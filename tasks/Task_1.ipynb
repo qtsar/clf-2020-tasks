{
 "cells": [
  {
   "cell_type": "markdown",
   "metadata": {},
   "source": [
    "# Задание 1\n",
    "\n",
    "[Свертка списка](https://ru.wikipedia.org/wiki/%D0%A1%D0%B2%D1%91%D1%80%D1%82%D0%BA%D0%B0_%D1%81%D0%BF%D0%B8%D1%81%D0%BA%D0%B0) -  это обобщенная операция над списком, c помощью которой можно преобразовать список в единое значение. Например, рассмотрим реализации свертки слева и свертки справа (левоассоциативную свертку и правоассоциативную свертку):"
   ]
  },
  {
   "cell_type": "code",
   "execution_count": 1,
   "metadata": {
    "jupyter": {
     "outputs_hidden": true
    }
   },
   "outputs": [],
   "source": [
    "def foldl(f, x0, lst):\n",
    "    if not lst:\n",
    "        return x0\n",
    "    return foldl(f, f(x0, lst[0]), lst[1:])"
   ]
  },
  {
   "cell_type": "code",
   "execution_count": 2,
   "metadata": {},
   "outputs": [],
   "source": [
    "def foldr(f, x0, lst):\n",
    "    if not lst:\n",
    "        return x0\n",
    "    return f(lst[0], foldr(f, x0, lst[1:]))"
   ]
  },
  {
   "cell_type": "code",
   "execution_count": 3,
   "metadata": {},
   "outputs": [
    {
     "data": {
      "text/plain": [
       "106"
      ]
     },
     "execution_count": 3,
     "metadata": {},
     "output_type": "execute_result"
    }
   ],
   "source": [
    "# сумма\n",
    "foldl(lambda x, y: x + y, 100, [1, 2, 3])"
   ]
  },
  {
   "cell_type": "code",
   "execution_count": 4,
   "metadata": {},
   "outputs": [
    {
     "data": {
      "text/plain": [
       "'kek123'"
      ]
     },
     "execution_count": 4,
     "metadata": {},
     "output_type": "execute_result"
    }
   ],
   "source": [
    "# конкатенация\n",
    "foldl(lambda x, y: '{}{}'.format(x, y), 'kek', [1, 2, 3])"
   ]
  },
  {
   "cell_type": "code",
   "execution_count": 5,
   "metadata": {},
   "outputs": [
    {
     "data": {
      "text/plain": [
       "(0.16666666666666666, 1.5)"
      ]
     },
     "execution_count": 5,
     "metadata": {},
     "output_type": "execute_result"
    }
   ],
   "source": [
    "f = lambda x, y: x / y\n",
    "foldl(f, 1, [1, 2, 3]), \\\n",
    "foldr(f, 1, [1, 2, 3])"
   ]
  },
  {
   "cell_type": "markdown",
   "metadata": {},
   "source": [
    "Задача: реализовать foldl через foldr и наоборот. Вместо многоточий нужно вставить выражения, которые бы привели к нужному результату. Модифицировать сам список нельзя. "
   ]
  },
  {
   "cell_type": "markdown",
   "metadata": {},
   "source": [
    "***foldl2***"
   ]
  },
  {
   "cell_type": "code",
   "execution_count": 6,
   "metadata": {
    "jupyter": {
     "outputs_hidden": true
    }
   },
   "outputs": [],
   "source": [
    "def foldl2(f, x0, lst):\n",
    "    return foldr(lambda val, acc: lambda n: acc(f(n, val)), lambda x: x, lst)(x0)"
   ]
  },
  {
   "cell_type": "code",
   "execution_count": 7,
   "metadata": {},
   "outputs": [
    {
     "data": {
      "text/plain": [
       "106"
      ]
     },
     "execution_count": 7,
     "metadata": {},
     "output_type": "execute_result"
    }
   ],
   "source": [
    "# сумма\n",
    "foldl2(lambda x, y: x + y, 100, [1, 2, 3])"
   ]
  },
  {
   "cell_type": "code",
   "execution_count": 8,
   "metadata": {},
   "outputs": [
    {
     "data": {
      "text/plain": [
       "'kek123'"
      ]
     },
     "execution_count": 8,
     "metadata": {},
     "output_type": "execute_result"
    }
   ],
   "source": [
    "# конкатенация\n",
    "foldl2(lambda x, y: '{}{}'.format(x, y), 'kek', [1, 2, 3])"
   ]
  },
  {
   "cell_type": "markdown",
   "metadata": {},
   "source": [
    "***foldr2***"
   ]
  },
  {
   "cell_type": "code",
   "execution_count": 9,
   "metadata": {
    "jupyter": {
     "outputs_hidden": true
    }
   },
   "outputs": [],
   "source": [
    "def foldr2(f, x0, lst):\n",
    "    return foldl(lambda acc, val: lambda n: acc(f(val, n)), lambda x: x, lst)(x0)"
   ]
  },
  {
   "cell_type": "code",
   "execution_count": 10,
   "metadata": {},
   "outputs": [
    {
     "data": {
      "text/plain": [
       "(0.16666666666666666, 1.5)"
      ]
     },
     "execution_count": 10,
     "metadata": {},
     "output_type": "execute_result"
    }
   ],
   "source": [
    "f = lambda x, y: x / y\n",
    "foldl2(f, 1, [1, 2, 3]), \\\n",
    "foldr2(f, 1, [1, 2, 3])"
   ]
  },
  {
   "cell_type": "markdown",
   "metadata": {},
   "source": [
    "# Задание 2\n",
    "\n",
    "нужно написать функцию, которая принимает две строки и проверяет, входит ли хотя бы одна перестановка второй строки в первую. Например:\n",
    "\n",
    "> a = 'abcrotm'\n",
    "> \n",
    "> b = 'tro'\n",
    "\n",
    "функция def check_inv(a, b) вернет True, так как 'rot' содержится в 'abcrotm'. Нужно подумать как можно более оптимальный алгоритм и оценить его сложность. "
   ]
  },
  {
   "cell_type": "code",
   "execution_count": 11,
   "metadata": {
    "jupyter": {
     "outputs_hidden": true
    }
   },
   "outputs": [],
   "source": [
    "def check_inv(a, b):\n",
    "    assert len(a) >= len(b)\n",
    "    \n",
    "    a_chars = dict.fromkeys(a, 0)\n",
    "    b_chars = dict.fromkeys(a, 0)\n",
    "    \n",
    "    for char in b:\n",
    "        b_chars[char] += 1\n",
    "        \n",
    "    for char in a[:len(b) - 1]:\n",
    "        a_chars[char] += 1\n",
    "        \n",
    "    for i in range(len(b) - 1, len(a)):\n",
    "        a_chars[a[i]] += 1\n",
    "        \n",
    "        if (a_chars == b_chars):\n",
    "            return True\n",
    "        \n",
    "        a_chars[a[i - len(b) + 1]] -= 1\n",
    "        \n",
    "    return False\n",
    "    "
   ]
  },
  {
   "cell_type": "code",
   "execution_count": 12,
   "metadata": {},
   "outputs": [
    {
     "data": {
      "text/plain": [
       "True"
      ]
     },
     "execution_count": 12,
     "metadata": {},
     "output_type": "execute_result"
    }
   ],
   "source": [
    "a = 'abcrotm'\n",
    "b = 'tro'\n",
    "check_inv(a, b) # abc rot m"
   ]
  },
  {
   "cell_type": "code",
   "execution_count": 13,
   "metadata": {},
   "outputs": [
    {
     "data": {
      "text/plain": [
       "False"
      ]
     },
     "execution_count": 13,
     "metadata": {},
     "output_type": "execute_result"
    }
   ],
   "source": [
    "a = 'ryabcrootmaaatr'\n",
    "b = 'tro'\n",
    "check_inv(a, b) # нет вхождения"
   ]
  },
  {
   "cell_type": "code",
   "execution_count": 14,
   "metadata": {},
   "outputs": [
    {
     "data": {
      "text/plain": [
       "True"
      ]
     },
     "execution_count": 14,
     "metadata": {},
     "output_type": "execute_result"
    }
   ],
   "source": [
    "a = 'dhfjshjgksgsfjhrooot'\n",
    "b = 'hsj'\n",
    "check_inv(a, b) # dhf jsh jgksgsfjhrooot"
   ]
  },
  {
   "cell_type": "code",
   "execution_count": 15,
   "metadata": {},
   "outputs": [
    {
     "data": {
      "text/plain": [
       "False"
      ]
     },
     "execution_count": 15,
     "metadata": {},
     "output_type": "execute_result"
    }
   ],
   "source": [
    "a = 'dddeeefff'\n",
    "b = 'def'\n",
    "check_inv(a, b) # нет вхождения"
   ]
  },
  {
   "cell_type": "markdown",
   "metadata": {},
   "source": [
    "# Задание 3\n",
    "\n",
    "Реализовать бинарное дерево (класс Tree), в нём методы __repr__, __str__, __iter__ (итерация только по листьям)."
   ]
  },
  {
   "cell_type": "code",
   "execution_count": 16,
   "metadata": {},
   "outputs": [
    {
     "data": {
      "text/plain": [
       "True"
      ]
     },
     "execution_count": 16,
     "metadata": {},
     "output_type": "execute_result"
    }
   ],
   "source": [
    "class Tree:\n",
    "    def __init__(self, value=None, left=None, right=None):\n",
    "        self.left = left\n",
    "        self.right = right\n",
    "        self.value = value\n",
    "        \n",
    "    def __iter__(self):\n",
    "        if(self.left == None and self.right == None):\n",
    "            yield self.value\n",
    "            \n",
    "        if(self.left):\n",
    "            yield from self.left\n",
    "            \n",
    "        if(self.right):\n",
    "            yield from self.right\n",
    "        \n",
    "    \n",
    "    def __str__(self):\n",
    "        res = [str(self.value)]\n",
    "        \n",
    "        if(self.left):\n",
    "            res.append(self.left.__str__())\n",
    "            res.append('↑')\n",
    "            \n",
    "        if(self.right):\n",
    "            res.append(self.right.__str__())\n",
    "            res.append('↑')\n",
    "            \n",
    "        return ' '.join(res)\n",
    "    \n",
    "    def __repr__(self):\n",
    "        if(self.left == None and self.right == None):\n",
    "            return f\"Tree({self.value})\"\n",
    "        \n",
    "        if(self.right == None):\n",
    "            return f\"Tree({self.value}, {self.left.__repr__()})\"\n",
    "        \n",
    "        if(self.left == None):\n",
    "            return f\"Tree({self.value}, None, {self.right.__repr__()})\"\n",
    "        \n",
    "        \n",
    "        return f\"Tree({self.value}, {self.left.__repr__()}, {self.right.__repr__()})\"\n",
    " \n",
    "    \n",
    "tree = Tree(0, Tree(1, Tree(3), Tree(4)),                             \n",
    "               Tree(2))\n",
    "\n",
    "list(tree) == [3, 4, 2]"
   ]
  },
  {
   "cell_type": "code",
   "execution_count": 17,
   "metadata": {},
   "outputs": [],
   "source": [
    "#    0\n",
    "#  1   2\n",
    "# 3 4"
   ]
  },
  {
   "cell_type": "code",
   "execution_count": 18,
   "metadata": {},
   "outputs": [
    {
     "name": "stdout",
     "output_type": "stream",
     "text": [
      "0 1 3 ↑ 4 ↑ ↑ 2 ↑\n"
     ]
    }
   ],
   "source": [
    "print(tree)"
   ]
  },
  {
   "cell_type": "code",
   "execution_count": 19,
   "metadata": {},
   "outputs": [
    {
     "data": {
      "text/plain": [
       "Tree(0, Tree(1, Tree(3), Tree(4)), Tree(2))"
      ]
     },
     "execution_count": 19,
     "metadata": {},
     "output_type": "execute_result"
    }
   ],
   "source": [
    "tree"
   ]
  },
  {
   "cell_type": "code",
   "execution_count": 20,
   "metadata": {},
   "outputs": [
    {
     "name": "stdout",
     "output_type": "stream",
     "text": [
      "3\n",
      "4\n",
      "2\n"
     ]
    }
   ],
   "source": [
    "for i in tree:\n",
    "    print(i)"
   ]
  },
  {
   "cell_type": "markdown",
   "metadata": {},
   "source": [
    "#### другое дерево\n",
    "![](https://neerc.ifmo.ru/wiki/images/c/cf/Binary_search_tree.svg.png)"
   ]
  },
  {
   "cell_type": "code",
   "execution_count": 21,
   "metadata": {},
   "outputs": [],
   "source": [
    "other_tree = Tree(8, Tree(3, Tree(1), Tree(6, Tree(4), Tree(7))),                             \n",
    "               Tree(10, Tree(14, Tree(13))))"
   ]
  },
  {
   "cell_type": "code",
   "execution_count": 22,
   "metadata": {},
   "outputs": [
    {
     "name": "stdout",
     "output_type": "stream",
     "text": [
      "8 3 1 ↑ 6 4 ↑ 7 ↑ ↑ ↑ 10 14 13 ↑ ↑ ↑\n"
     ]
    }
   ],
   "source": [
    "print(other_tree)"
   ]
  },
  {
   "cell_type": "code",
   "execution_count": 23,
   "metadata": {},
   "outputs": [
    {
     "data": {
      "text/plain": [
       "Tree(8, Tree(3, Tree(1), Tree(6, Tree(4), Tree(7))), Tree(10, Tree(14, Tree(13))))"
      ]
     },
     "execution_count": 23,
     "metadata": {},
     "output_type": "execute_result"
    }
   ],
   "source": [
    "other_tree"
   ]
  },
  {
   "cell_type": "code",
   "execution_count": 24,
   "metadata": {},
   "outputs": [
    {
     "name": "stdout",
     "output_type": "stream",
     "text": [
      "1\n",
      "4\n",
      "7\n",
      "13\n"
     ]
    }
   ],
   "source": [
    "for i in other_tree:\n",
    "    print(i)"
   ]
  },
  {
   "cell_type": "markdown",
   "metadata": {},
   "source": [
    "# Задание 4\n",
    "\n",
    "Реализовать простейший калькулятор математических выражений:\n",
    "- только целые числа\n",
    "- **+**, **\\-**, **\\***, **\\**\n",
    "- скобки\n",
    "\n",
    "**Можно использовать регулярные выражения**"
   ]
  },
  {
   "cell_type": "code",
   "execution_count": 25,
   "metadata": {},
   "outputs": [],
   "source": [
    "OPERATORS = {'+': (1, lambda x, y: x + y),\n",
    "             '-': (1, lambda x, y: x - y),\n",
    "             '*': (2, lambda x, y: x * y),\n",
    "             '/': (2, lambda x, y: x / y)}"
   ]
  },
  {
   "cell_type": "code",
   "execution_count": 26,
   "metadata": {},
   "outputs": [],
   "source": [
    "def parse(str_expr):\n",
    "    num = ''\n",
    "    res = []\n",
    "    \n",
    "    for s in str_expr:\n",
    "        if s in '1234567890':\n",
    "            num += s\n",
    "            \n",
    "        elif num:\n",
    "            res.append(float(num))\n",
    "            num = ''\n",
    "        \n",
    "        if s in '+-/*' or s in '()':\n",
    "            res.append(s)\n",
    "            \n",
    "    if num:\n",
    "        res.append(num)\n",
    "        \n",
    "    return res"
   ]
  },
  {
   "cell_type": "code",
   "execution_count": 27,
   "metadata": {
    "jupyter": {
     "outputs_hidden": true
    }
   },
   "outputs": [],
   "source": [
    "def pol_notation(parsed_expr):\n",
    "    res = []\n",
    "    stack = []\n",
    "    for token in parsed_expr:\n",
    "        if token in OPERATORS:\n",
    "            while stack and stack[-1] != '(' and OPERATORS[token][0] <= OPERATORS[stack[-1]][0]:\n",
    "                res.append(stack.pop())\n",
    "                \n",
    "            stack.append(token)\n",
    "            \n",
    "        elif token == ')':\n",
    "            while stack:\n",
    "                x = stack.pop()\n",
    "                \n",
    "                if x == '(':\n",
    "                    break\n",
    "                    \n",
    "                res.append(x)\n",
    "                \n",
    "        elif token == '(':\n",
    "            stack.append(token)\n",
    "            \n",
    "        else:\n",
    "            res.append(token)\n",
    "            \n",
    "    while stack:\n",
    "        res.append(stack.pop())\n",
    "        \n",
    "    return res"
   ]
  },
  {
   "cell_type": "code",
   "execution_count": 28,
   "metadata": {},
   "outputs": [],
   "source": [
    "def calc(expr):\n",
    "    \n",
    "    polish = pol_notation(parse(expr))\n",
    "    \n",
    "    stack = []\n",
    "    for token in polish:\n",
    "        if token not in OPERATORS:\n",
    "            stack.append(float(token))\n",
    "        if token in OPERATORS:\n",
    "            y, x = stack.pop(), stack.pop()\n",
    "            stack.append(OPERATORS[token][1](x, y))\n",
    "            \n",
    "    return stack.pop()\n",
    "\n"
   ]
  },
  {
   "cell_type": "code",
   "execution_count": 29,
   "metadata": {},
   "outputs": [
    {
     "data": {
      "text/plain": [
       "True"
      ]
     },
     "execution_count": 29,
     "metadata": {},
     "output_type": "execute_result"
    }
   ],
   "source": [
    "expr = '2 * (15 - 3 * 4) - 2'\n",
    "\n",
    "eval(expr) == calc(expr)"
   ]
  },
  {
   "cell_type": "code",
   "execution_count": 30,
   "metadata": {},
   "outputs": [
    {
     "data": {
      "text/plain": [
       "True"
      ]
     },
     "execution_count": 30,
     "metadata": {},
     "output_type": "execute_result"
    }
   ],
   "source": [
    "expr = \"15/(7-(1+1))*3-(2+(1+1))*15/(7-(1+1))*3-(2+(1*5/6+1))*(15/(7-(1+1))*3-(2+(1+1))+15/(7-(1+1))*3-(2+(1+1)))\"\n",
    "\n",
    "eval(expr) == calc(expr)"
   ]
  },
  {
   "cell_type": "code",
   "execution_count": null,
   "metadata": {},
   "outputs": [],
   "source": []
  }
 ],
 "metadata": {
  "kernelspec": {
   "display_name": "Python 3",
   "language": "python",
   "name": "python3"
  },
  "language_info": {
   "codemirror_mode": {
    "name": "ipython",
    "version": 3
   },
   "file_extension": ".py",
   "mimetype": "text/x-python",
   "name": "python",
   "nbconvert_exporter": "python",
   "pygments_lexer": "ipython3",
   "version": "3.7.7"
  }
 },
 "nbformat": 4,
 "nbformat_minor": 4
}
