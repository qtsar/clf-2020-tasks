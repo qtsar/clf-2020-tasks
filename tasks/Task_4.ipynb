{
 "cells": [
  {
   "cell_type": "markdown",
   "metadata": {},
   "source": [
    "# Линейная регрессия"
   ]
  },
  {
   "cell_type": "markdown",
   "metadata": {},
   "source": [
    "Данные содержатся в файле `data/lin_reg.txt`. Прочитать их можно следующим так:"
   ]
  },
  {
   "cell_type": "code",
   "execution_count": 1,
   "metadata": {},
   "outputs": [],
   "source": [
    "import matplotlib.pyplot as plt\n",
    "import numpy as np\n",
    "import torch\n",
    "\n",
    "D = np.loadtxt('../data/lin_reg.txt', delimiter=',')\n",
    "X = D[:, :-1]\n",
    "Y = D[:, -1]"
   ]
  },
  {
   "cell_type": "code",
   "execution_count": 2,
   "metadata": {},
   "outputs": [],
   "source": [
    "eps = 1e-12"
   ]
  },
  {
   "cell_type": "code",
   "execution_count": 3,
   "metadata": {},
   "outputs": [],
   "source": [
    "X = (X - X.mean(axis=0))/(X.std(axis = 0) + eps)\n",
    "Y = Y.reshape((-1,1))\n",
    "# X = np.hstack((torch.ones(X.shape[0], 1), X))\n",
    "X = torch.tensor(X, dtype=torch.float)\n",
    "Y = torch.tensor(Y, dtype=torch.float)"
   ]
  },
  {
   "cell_type": "markdown",
   "metadata": {},
   "source": [
    "При выполнении заданий **нельзя** пользоваться `scikit-learn` и т.п., только `NumPy`/`JAX`/`TF`/`PyTorch` и `matplotlib`/`seaborn`/`plotly`/etc.\n",
    "\n",
    "1. Нарисуйте график среднеквадратичной ошибки в зависимости от параметра регуляризации $\\alpha$, используя полные данные для обучения и для тестирования. \n",
    "2. Подготовьте исходные данные для 5 fold CV.\n",
    "3. С помощью CV найдите оптимальное значение $\\alpha$ на какой-нибудь сетке значений.\n",
    "4. Постройте валидационную кривую. \n",
    "5. Постройте кривую обучения."
   ]
  },
  {
   "cell_type": "code",
   "execution_count": 4,
   "metadata": {},
   "outputs": [],
   "source": [
    "class LinearModel(torch.nn.Module):\n",
    "    def __init__(self, in_features):\n",
    "        super(LinearModel,self).__init__()\n",
    "        self.fc = torch.nn.Linear(in_features, 1, bias=True)\n",
    "        \n",
    "    def forward(self,x):\n",
    "        x = self.fc(x)\n",
    "        return x"
   ]
  },
  {
   "cell_type": "code",
   "execution_count": 5,
   "metadata": {},
   "outputs": [],
   "source": [
    "def train_model(model, criterion, optimizer, \n",
    "                X_train, y_train, \n",
    "                X_val=None, y_val=None, \n",
    "                batch_size = 16, epochs = 500, verbose = True):\n",
    "    \n",
    "    history, val_history = [], []\n",
    "    for epoch in range(1, epochs + 1):\n",
    "        fraction = X_train.shape[0] // batch_size\n",
    "        batch_range = range(fraction)\n",
    "        \n",
    "        for i in batch_range:\n",
    "            x_batch = X_train[i * batch_size: (i + 1) * batch_size]\n",
    "            y_batch = y_train[i * batch_size: (i + 1) * batch_size]\n",
    "            \n",
    "            optimizer.zero_grad()\n",
    "            predictions = model(x_batch)\n",
    "            \n",
    "            loss = criterion(y_batch, predictions)\n",
    "            loss.backward()\n",
    "            \n",
    "            optimizer.step()\n",
    "            optimizer.zero_grad()\n",
    "            \n",
    "        with torch.no_grad():\n",
    "            history.append(loss.item())\n",
    "            if (X_val is not None) or (y_val is not None):\n",
    "                val_predictions = model(X_val)\n",
    "                val_history.append(criterion(val_predictions, y_val).item())\n",
    "                \n",
    "        if verbose:\n",
    "            output = f'epoch {epoch}: {history[-1]}' if (X_val is None) or (y_val is None) else f'epoch {epoch}: {loss.item()}; val loss: {val_history[-1]}'\n",
    "            print(output)\n",
    "            \n",
    "    return history, val_history"
   ]
  },
  {
   "cell_type": "markdown",
   "metadata": {},
   "source": [
    "### 1. Нарисуйте график среднеквадратичной ошибки в зависимости от параметра регуляризации $\\alpha$, используя полные данные для обучения и для тестирования."
   ]
  },
  {
   "cell_type": "code",
   "execution_count": 6,
   "metadata": {},
   "outputs": [
    {
     "data": {
      "image/png": "[encoded data removed]",
      "text/plain": [
       "<Figure size 432x288 with 1 Axes>"
      ]
     },
     "metadata": {
      "needs_background": "light"
     },
     "output_type": "display_data"
    }
   ],
   "source": [
    "param_range = np.arange(0.0, 10.1, 0.1)\n",
    "loss_list = []\n",
    "\n",
    "for alpha in param_range:\n",
    "    model = LinearModel(X.shape[1])\n",
    "    mse_loss = torch.nn.MSELoss(reduction='mean')\n",
    "    optimizer = torch.optim.SGD(model.parameters(), lr = 1e-4, weight_decay= alpha)\n",
    "\n",
    "    history, val_history = train_model(model, mse_loss, optimizer, X, Y,\n",
    "        epochs = 100,\n",
    "        batch_size = 16,\n",
    "        verbose = False)\n",
    "    model.eval()\n",
    "    prediction = model(X)\n",
    "    loss = mse_loss(prediction, Y)\n",
    "    loss_list.append(loss.item())\n",
    "\n",
    "plt.plot(param_range, loss_list, label = 'loss')\n",
    "plt.xlabel(\"weight decay parameter\")\n",
    "plt.ylabel(\"final loss\")\n",
    "plt.legend() \n",
    "plt.grid()\n",
    "plt.show()"
   ]
  },
  {
   "cell_type": "markdown",
   "metadata": {},
   "source": [
    "### 2. Подготовьте исходные данные для 5 fold CV."
   ]
  },
  {
   "cell_type": "code",
   "execution_count": 7,
   "metadata": {},
   "outputs": [],
   "source": [
    "def k_fold_training(X, y, k, epochs, lr, weight_decay_param, batch_size = 16, verbose = True):\n",
    "    num_val_samples = len(X) // k\n",
    "    \n",
    "    models = []\n",
    "    history_list = []\n",
    "    train_scores = []\n",
    "    val_scores = []\n",
    "    \n",
    "    for i in range(k):\n",
    "        if verbose:\n",
    "            print('processing fold #', i + 1)\n",
    "        val_data = X[i * num_val_samples: (i + 1) * num_val_samples]\n",
    "        val_targets = Y[i * num_val_samples: (i + 1) * num_val_samples]\n",
    "        \n",
    "        partial_train_data = torch.Tensor(np.concatenate([X[:i * num_val_samples],\n",
    "                                                          X[(i + 1) * num_val_samples:]],\n",
    "                                                         axis=0))\n",
    "        partial_train_targets = torch.Tensor(np.concatenate([y[:i * num_val_samples],\n",
    "                                                             y[(i + 1) * num_val_samples:]], axis=0))\n",
    "        model = LinearModel(X.shape[1])\n",
    "        criterion = torch.nn.MSELoss() \n",
    "        optimizer = torch.optim.SGD(model.parameters(), lr=lr, weight_decay = weight_decay_param)\n",
    "        \n",
    "        if verbose:\n",
    "            print(f'Training {i+1} model')\n",
    "        history = train_model(model, criterion, optimizer, partial_train_data, partial_train_targets, val_data, val_targets,\n",
    "                               batch_size = batch_size,\n",
    "                              epochs = epochs,\n",
    "                             verbose = False)\n",
    "        \n",
    "        with torch.no_grad():\n",
    "            val_score = criterion(model(val_data), val_targets)\n",
    "            train_score = criterion(model(partial_train_data), partial_train_targets)\n",
    "            \n",
    "        if verbose:\n",
    "            print(f'val_score: {val_score}')\n",
    "        \n",
    "        models.append(model)\n",
    "        train_scores.append(train_score)\n",
    "        val_scores.append(val_score)        \n",
    "        history_list.append(history)\n",
    "    \n",
    "    return {'models': models, 'history': history_list, 'train_scores': train_scores, 'val_scores': val_scores}\n",
    "    "
   ]
  },
  {
   "cell_type": "code",
   "execution_count": 8,
   "metadata": {},
   "outputs": [
    {
     "name": "stdout",
     "output_type": "stream",
     "text": [
      "processing fold # 1\n",
      "Training 1 model\n",
      "val_score: 111.44230651855469\n",
      "processing fold # 2\n",
      "Training 2 model\n",
      "val_score: 112.59626007080078\n",
      "processing fold # 3\n",
      "Training 3 model\n",
      "val_score: 135.98614501953125\n",
      "processing fold # 4\n",
      "Training 4 model\n",
      "val_score: 123.69572448730469\n",
      "processing fold # 5\n",
      "Training 5 model\n",
      "val_score: 135.38833618164062\n"
     ]
    }
   ],
   "source": [
    "info = k_fold_training(X,Y, 5, 50, 0.1, weight_decay_param=0.1)"
   ]
  },
  {
   "cell_type": "markdown",
   "metadata": {},
   "source": [
    "### 3. С помощью CV найдите оптимальное значение $\\alpha$ на какой-нибудь сетке значений."
   ]
  },
  {
   "cell_type": "code",
   "execution_count": 9,
   "metadata": {},
   "outputs": [],
   "source": [
    "def random_search(X, y , steps, lr, weight_decay_param, verbose = True, epochs = 100,batch_size = 16):\n",
    "    mean_scores = []\n",
    "    params_list = []\n",
    "    for i in range(1, steps+1):\n",
    "        random_lr = np.random.uniform(*lr)\n",
    "        random_weigh_decay = np.random.uniform(*weight_decay_param)\n",
    "        params = {'lr': random_lr, 'weight_decay': random_weigh_decay}\n",
    "        \n",
    "        if verbose:\n",
    "            print(f'{i}) random_lr: {random_lr}; random_weight_decay: {random_weigh_decay}')\n",
    "        \n",
    "        info = k_fold_training(X, y, 5, epochs, random_lr, random_weigh_decay, batch_size = batch_size, verbose = False)\n",
    "        mean_score = np.array(info['val_scores']).mean()\n",
    "        \n",
    "        if verbose:\n",
    "            print(f'mean score: {mean_score}\\n')\n",
    "        mean_scores.append(mean_score)\n",
    "        params_list.append(params)\n",
    "    \n",
    "    min_index = np.array(mean_scores).argmin()\n",
    "    if verbose:\n",
    "        print(f'optimal params: {params_list[min_index]}; mean score: {mean_scores[min_index]}')\n",
    "    return params_list[min_index]\n",
    "        "
   ]
  },
  {
   "cell_type": "code",
   "execution_count": 11,
   "metadata": {},
   "outputs": [
    {
     "name": "stdout",
     "output_type": "stream",
     "text": [
      "1) random_lr: 0.05100182745195419; random_weight_decay: 0.7809326194117424\n",
      "mean score: 723.5982055664062\n",
      "\n",
      "2) random_lr: 0.05322947772364068; random_weight_decay: 0.42220820207014464\n",
      "mean score: 336.5386657714844\n",
      "\n",
      "3) random_lr: 0.04372497892336399; random_weight_decay: 0.8692579893478263\n",
      "mean score: 821.38427734375\n",
      "\n",
      "4) random_lr: 0.07609329909948494; random_weight_decay: 0.6237185292018089\n",
      "mean score: 571.5706176757812\n",
      "\n",
      "5) random_lr: 0.08102274443307456; random_weight_decay: 0.24690638131464027\n",
      "mean score: 201.63735961914062\n",
      "\n",
      "6) random_lr: 0.04672512367589341; random_weight_decay: 0.8560074609675585\n",
      "mean score: 808.5921020507812\n",
      "\n",
      "7) random_lr: 0.05621781850134052; random_weight_decay: 0.8009621389427481\n",
      "mean score: 754.7197875976562\n",
      "\n",
      "8) random_lr: 0.04916949720943535; random_weight_decay: 0.5098473514399121\n",
      "mean score: 420.1475524902344\n",
      "\n",
      "9) random_lr: 0.039339700005774886; random_weight_decay: 0.8930153484511701\n",
      "mean score: 846.3201293945312\n",
      "\n",
      "10) random_lr: 0.02371164133102424; random_weight_decay: 0.22345853186770603\n",
      "mean score: 178.6122589111328\n",
      "\n",
      "optimal params: {'lr': 0.02371164133102424, 'weight_decay': 0.22345853186770603}; mean score: 178.6122589111328\n"
     ]
    }
   ],
   "source": [
    "params_list = random_search(X, Y, 10, [1e-5, 1e-1], [0.0, 1.0])"
   ]
  },
  {
   "cell_type": "markdown",
   "metadata": {},
   "source": [
    "### 4. Постройте валидационную кривую. \n",
    "### 5. Постройте кривую обучения."
   ]
  },
  {
   "cell_type": "code",
   "execution_count": 12,
   "metadata": {},
   "outputs": [
    {
     "name": "stdout",
     "output_type": "stream",
     "text": [
      "epoch 1: 131.4470977783203; val loss: 273.8025817871094\n",
      "epoch 2: 77.14971160888672; val loss: 171.6434783935547\n",
      "epoch 3: 74.6630630493164; val loss: 166.36749267578125\n",
      "epoch 4: 74.46469116210938; val loss: 166.0\n",
      "epoch 5: 74.43684387207031; val loss: 165.9660186767578\n",
      "epoch 6: 74.42491912841797; val loss: 165.9574737548828\n",
      "epoch 7: 74.41664123535156; val loss: 165.95242309570312\n",
      "epoch 8: 74.41029357910156; val loss: 165.94830322265625\n",
      "epoch 9: 74.40544128417969; val loss: 165.94532775878906\n",
      "epoch 10: 74.40182495117188; val loss: 165.94322204589844\n"
     ]
    }
   ],
   "source": [
    "model = LinearModel(X.shape[1])\n",
    "mse_loss = torch.nn.MSELoss(reduction='mean')\n",
    "# optimizer = torch.optim.SGD(model.parameters(), lr=5e-4,\n",
    "#                             momentum = 0.97,\n",
    "#                             nesterov=True,\n",
    "#                             weight_decay=1)\n",
    "optimizer = torch.optim.SGD(model.parameters(), **params_list)\n",
    "\n",
    "history, val_history = train_model(model, mse_loss, optimizer, X[200:], Y[200:],\n",
    "        X[:200], Y[:200],\n",
    "        epochs = 10,\n",
    "        batch_size = 16,\n",
    "        verbose = True)"
   ]
  },
  {
   "cell_type": "code",
   "execution_count": 13,
   "metadata": {},
   "outputs": [
    {
     "name": "stdout",
     "output_type": "stream",
     "text": [
      "165.94322204589844\n"
     ]
    },
    {
     "data": {
      "image/png": "[encoded data removed]",
      "text/plain": [
       "<Figure size 432x288 with 1 Axes>"
      ]
     },
     "metadata": {
      "needs_background": "light"
     },
     "output_type": "display_data"
    }
   ],
   "source": [
    "print(val_history[-1])\n",
    "plt.plot(range(len(history)), history, label = 'loss')\n",
    "plt.plot(range(len(val_history)), val_history, label = 'val_loss')\n",
    "plt.xlabel(\"epochs\")\n",
    "plt.ylabel(\"loss\")\n",
    "plt.legend() \n",
    "plt.grid()\n",
    "plt.show()"
   ]
  },
  {
   "cell_type": "code",
   "execution_count": null,
   "metadata": {},
   "outputs": [],
   "source": []
  }
 ],
 "metadata": {
  "kernelspec": {
   "display_name": "Python 3",
   "language": "python",
   "name": "python3"
  },
  "language_info": {
   "codemirror_mode": {
    "name": "ipython",
    "version": 3
   },
   "file_extension": ".py",
   "mimetype": "text/x-python",
   "name": "python",
   "nbconvert_exporter": "python",
   "pygments_lexer": "ipython3",
   "version": "3.7.7"
  }
 },
 "nbformat": 4,
 "nbformat_minor": 4
}
